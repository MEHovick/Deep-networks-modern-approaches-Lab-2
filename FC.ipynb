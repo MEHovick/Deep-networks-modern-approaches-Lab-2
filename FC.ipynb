{
 "cells": [
  {
   "cell_type": "code",
   "execution_count": 1,
   "metadata": {},
   "outputs": [],
   "source": [
    "import numpy as np\n",
    "import torch\n",
    "import cv2\n",
    "import os\n",
    "from torch import nn, optim\n",
    "from torchvision import transforms\n",
    "from torch.utils.data import Dataset\n",
    "from tqdm import tqdm\n",
    "import matplotlib.pyplot as plt"
   ]
  },
  {
   "cell_type": "code",
   "execution_count": 2,
   "metadata": {},
   "outputs": [],
   "source": [
    "DataPath = \"flower_images\"\n",
    "dic = {'Lilly': 0, 'Lotus': 1, 'Orchid': 2, 'Sunflower': 3, 'Tulip': 4}\n",
    "\n",
    "image_path = []\n",
    "image_labels = []\n",
    "\n",
    "for name, label in dic.items():\n",
    "  path = os.path.join(DataPath, name)\n",
    "  for f in os.listdir(path):\n",
    "    image_path.append(os.path.join(name, f))\n",
    "    image_labels.append(label)"
   ]
  },
  {
   "cell_type": "code",
   "execution_count": 3,
   "metadata": {},
   "outputs": [],
   "source": [
    "class FlowersDataset(Dataset):\n",
    "    def __init__(self, file_list, file_label, dir, transform=None):\n",
    "        self.file_list = file_list\n",
    "        self.file_label = file_label\n",
    "        self.dir = dir\n",
    "        self.transform = transform\n",
    "\n",
    "            \n",
    "    def __len__(self):\n",
    "        return len(self.file_list)\n",
    "    \n",
    "    def __getitem__(self, idx):\n",
    "        #считываем изображение\n",
    "        image = cv2.imread(os.path.join(self.dir, self.file_list[idx]))\n",
    "        #делаем изображение RGB\n",
    "        image = cv2.cvtColor(image, cv2.COLOR_BGR2RGB)\n",
    "        #присваиваем лейбл каждой картинке\n",
    "        self.label = self.file_label[idx]\n",
    "        image = self.transform(image)\n",
    "        \n",
    "        return image, float(self.label)"
   ]
  },
  {
   "cell_type": "code",
   "execution_count": 4,
   "metadata": {},
   "outputs": [],
   "source": [
    "transform = transforms.Compose([\n",
    "    transforms.ToPILImage(),\n",
    "    transforms.Resize((100, 100)),\n",
    "    transforms.ToTensor(),\n",
    "])\n",
    "data = FlowersDataset(image_path, image_labels, DataPath, transform)\n",
    "train_size = int(len(data) * 0.2)\n",
    "train_set, test_set = torch.utils.data.random_split(data, (len(data) - train_size, train_size))\n",
    "trainloader = torch.utils.data.DataLoader(train_set, pin_memory=True, \n",
    "                                        batch_size = 32, shuffle=True, num_workers=0)\n",
    "\n",
    "testloader = torch.utils.data.DataLoader(test_set, batch_size = 32, num_workers=0)\n",
    "device = \"cuda\" if torch.cuda.is_available() else \"cpu\"\n",
    "criterion = nn.CrossEntropyLoss()\n",
    "epoch = 10"
   ]
  },
  {
   "cell_type": "code",
   "execution_count": 5,
   "metadata": {},
   "outputs": [],
   "source": [
    "def train(model, dataloader, criterion, optimizer, epochs, device):\n",
    "    model.to(device)\n",
    "    model.train()\n",
    "    train_losses = []\n",
    "    train_accuracy = []\n",
    "\n",
    "    for epoch in range(epochs):\n",
    "        epoch_loss = 0\n",
    "        correct = 0\n",
    "        total = 0\n",
    "\n",
    "        for _, (data, target) in tqdm(enumerate(dataloader), total=len(dataloader), desc=f\"Epoch {epoch+1}/{epochs}\"):\n",
    "            data = data.to(device)\n",
    "            target = target.to(device).long()\n",
    "\n",
    "            optimizer.zero_grad()\n",
    "            output = model(data)\n",
    "            loss = criterion(output, target)\n",
    "            loss.backward()\n",
    "            optimizer.step()\n",
    "\n",
    "            epoch_loss += loss.item()\n",
    "\n",
    "            # Подсчет точности\n",
    "            _, predicted = torch.max(output, 1)\n",
    "            total += target.size(0)\n",
    "            correct += (predicted == target).sum().item()\n",
    "\n",
    "        epoch_loss /= len(dataloader)\n",
    "        train_losses.append(epoch_loss)\n",
    "        accuracy = 100 * correct / total\n",
    "        train_accuracy.append(accuracy)\n",
    "\n",
    "        print(f\"Epoch {epoch+1}, Train Loss: {epoch_loss:.4f}, Accuracy: {accuracy:.2f}%\")\n",
    "\n",
    "    return (train_losses, train_accuracy)\n",
    "\n",
    "def validate(model, testloader, device):\n",
    "    total = 0\n",
    "    correct = 0\n",
    "    all_labels = []\n",
    "    all_predictions = []\n",
    "\n",
    "    # Зададим параметры, чтобы модель не считала градиенты\n",
    "    with torch.no_grad():\n",
    "        # переводим модель в режим \"оценивания\"\n",
    "        model.eval()\n",
    "        for images, labels in testloader:\n",
    "            # прогоняем изображения через модель\n",
    "            images, labels = images.to(device), labels.to(device)\n",
    "            outputs = model(images)\n",
    "            # получим максимальное значение (это и будет наш лейбл)\n",
    "            predicted = torch.max(outputs.data, 1)[1]\n",
    "            # Посчитаем количество лейблов\n",
    "            total += len(labels)\n",
    "            # Посчитаем количество правильных предиктов\n",
    "            correct += (predicted == labels).sum()\n",
    "\n",
    "            # Сохраним все лейблы и предсказания для дальнейшего анализа\n",
    "            all_labels.extend(labels.cpu().numpy())\n",
    "            all_predictions.extend(predicted.cpu().numpy())\n",
    "\n",
    "    accuracy = 100 * correct / float(total)\n",
    "    print('Accuracy: {:.2f} %'.format(accuracy))\n",
    "\n",
    "    # Преобразуем списки в numpy массивы для удобства\n",
    "    all_labels = np.array(all_labels)\n",
    "    all_predictions = np.array(all_predictions)\n",
    "\n",
    "    # Получим уникальные классы\n",
    "    classes = np.unique(np.concatenate((all_labels, all_predictions)))\n",
    "    num_classes = len(classes)\n",
    "    class_to_index = {cls: idx for idx, cls in enumerate(classes)}\n",
    "\n",
    "    # Инициализируем матрицу ошибок\n",
    "    conf_matrix = np.zeros((num_classes, num_classes), dtype=int)\n",
    "\n",
    "    # Заполним матрицу ошибок\n",
    "    for t, p in zip(all_labels, all_predictions):\n",
    "        conf_matrix[class_to_index[t], class_to_index[p]] += 1\n",
    "\n",
    "    # Нормализуем матрицу ошибок\n",
    "    conf_matrix_normalized = conf_matrix.astype('float') / conf_matrix.sum(axis=1)[:, np.newaxis]\n",
    "\n",
    "    # Вычислим precision и recall для каждого класса\n",
    "    precision_per_class = []\n",
    "    recall_per_class = []\n",
    "\n",
    "    for i in range(num_classes):\n",
    "        tp = conf_matrix[i, i]\n",
    "        fp = conf_matrix[:, i].sum() - tp\n",
    "        fn = conf_matrix[i, :].sum() - tp\n",
    "        \n",
    "        precision = tp / (tp + fp) if (tp + fp) > 0 else 0\n",
    "        recall = tp / (tp + fn) if (tp + fn) > 0 else 0\n",
    "        \n",
    "        precision_per_class.append(precision)\n",
    "        recall_per_class.append(recall)\n",
    "\n",
    "    # Усредненные precision и recall\n",
    "    precision = np.mean(precision_per_class)\n",
    "    recall = np.mean(recall_per_class)\n",
    "\n",
    "    np.set_printoptions(precision=2)\n",
    "\n",
    "    print('Precision: {:.2f}'.format(precision))\n",
    "    print('Recall: {:.2f}'.format(recall))\n",
    "    print('Confusion Matrix (Normalized):')\n",
    "    print(conf_matrix_normalized)\n",
    "\n",
    "def plot_data(loss, accuracy):\n",
    "    epochs = range(1, len(loss) + 1)\n",
    "\n",
    "    plt.figure(figsize=(12, 5))\n",
    "\n",
    "    plt.subplot(1, 2, 1)\n",
    "    plt.plot(epochs, loss, 'b', label='Loss')\n",
    "    plt.title('Loss')\n",
    "    plt.xlabel('Epochs')\n",
    "    plt.ylabel('Loss')\n",
    "    plt.legend()\n",
    "\n",
    "    plt.subplot(1, 2, 2)\n",
    "    plt.plot(epochs, accuracy, 'r', label='Accuracy')\n",
    "    plt.title('Accuracy')\n",
    "    plt.xlabel('Epochs')\n",
    "    plt.ylabel('Accuracy')\n",
    "    plt.legend()\n",
    "\n",
    "    plt.tight_layout()\n",
    "    plt.show()"
   ]
  },
  {
   "cell_type": "code",
   "execution_count": 6,
   "metadata": {},
   "outputs": [],
   "source": [
    "class FC(nn.Module):\n",
    "    def __init__(self):\n",
    "        super().__init__()\n",
    "        self.flat = nn.Flatten()\n",
    "        self.fc1 = nn.Linear(3 * 100 * 100, 1000)\n",
    "        self.fc2 = nn.Linear(1000, 128)\n",
    "        self.fc3 = nn.Linear(128, 5)\n",
    "        self.softmax = nn.Softmax()\n",
    "        self.relu = nn.ReLU()\n",
    "        self.l_relu = nn.LeakyReLU()\n",
    "\n",
    "    def forward(self, x):\n",
    "        x = self.flat(x)\n",
    "        x = self.fc1(x)\n",
    "        x = self.relu(x)\n",
    "        x = self.fc2(x)\n",
    "        x = self.relu(x)\n",
    "        x = self.fc3(x)\n",
    "        x = self.l_relu(x)\n",
    "        return x"
   ]
  },
  {
   "cell_type": "code",
   "execution_count": 7,
   "metadata": {},
   "outputs": [
    {
     "name": "stderr",
     "output_type": "stream",
     "text": [
      "Epoch 1/10: 100%|██████████| 125/125 [00:27<00:00,  4.63it/s]\n"
     ]
    },
    {
     "name": "stdout",
     "output_type": "stream",
     "text": [
      "Epoch 1, Train Loss: 1.8420, Accuracy: 26.18%\n"
     ]
    },
    {
     "name": "stderr",
     "output_type": "stream",
     "text": [
      "Epoch 2/10: 100%|██████████| 125/125 [00:27<00:00,  4.57it/s]\n"
     ]
    },
    {
     "name": "stdout",
     "output_type": "stream",
     "text": [
      "Epoch 2, Train Loss: 1.4618, Accuracy: 37.77%\n"
     ]
    },
    {
     "name": "stderr",
     "output_type": "stream",
     "text": [
      "Epoch 3/10: 100%|██████████| 125/125 [00:27<00:00,  4.59it/s]\n"
     ]
    },
    {
     "name": "stdout",
     "output_type": "stream",
     "text": [
      "Epoch 3, Train Loss: 1.3928, Accuracy: 40.20%\n"
     ]
    },
    {
     "name": "stderr",
     "output_type": "stream",
     "text": [
      "Epoch 4/10: 100%|██████████| 125/125 [00:27<00:00,  4.54it/s]\n"
     ]
    },
    {
     "name": "stdout",
     "output_type": "stream",
     "text": [
      "Epoch 4, Train Loss: 1.3173, Accuracy: 42.85%\n"
     ]
    },
    {
     "name": "stderr",
     "output_type": "stream",
     "text": [
      "Epoch 5/10: 100%|██████████| 125/125 [00:27<00:00,  4.54it/s]\n"
     ]
    },
    {
     "name": "stdout",
     "output_type": "stream",
     "text": [
      "Epoch 5, Train Loss: 1.3150, Accuracy: 44.15%\n"
     ]
    },
    {
     "name": "stderr",
     "output_type": "stream",
     "text": [
      "Epoch 6/10: 100%|██████████| 125/125 [00:27<00:00,  4.54it/s]\n"
     ]
    },
    {
     "name": "stdout",
     "output_type": "stream",
     "text": [
      "Epoch 6, Train Loss: 1.2558, Accuracy: 46.95%\n"
     ]
    },
    {
     "name": "stderr",
     "output_type": "stream",
     "text": [
      "Epoch 7/10: 100%|██████████| 125/125 [00:27<00:00,  4.49it/s]\n"
     ]
    },
    {
     "name": "stdout",
     "output_type": "stream",
     "text": [
      "Epoch 7, Train Loss: 1.2350, Accuracy: 47.27%\n"
     ]
    },
    {
     "name": "stderr",
     "output_type": "stream",
     "text": [
      "Epoch 8/10: 100%|██████████| 125/125 [00:27<00:00,  4.51it/s]\n"
     ]
    },
    {
     "name": "stdout",
     "output_type": "stream",
     "text": [
      "Epoch 8, Train Loss: 1.2046, Accuracy: 50.12%\n"
     ]
    },
    {
     "name": "stderr",
     "output_type": "stream",
     "text": [
      "Epoch 9/10: 100%|██████████| 125/125 [00:27<00:00,  4.48it/s]\n"
     ]
    },
    {
     "name": "stdout",
     "output_type": "stream",
     "text": [
      "Epoch 9, Train Loss: 1.2020, Accuracy: 49.58%\n"
     ]
    },
    {
     "name": "stderr",
     "output_type": "stream",
     "text": [
      "Epoch 10/10: 100%|██████████| 125/125 [00:27<00:00,  4.54it/s]"
     ]
    },
    {
     "name": "stdout",
     "output_type": "stream",
     "text": [
      "Epoch 10, Train Loss: 1.1836, Accuracy: 51.12%\n"
     ]
    },
    {
     "name": "stderr",
     "output_type": "stream",
     "text": [
      "\n"
     ]
    }
   ],
   "source": [
    "fcModel = FC()\n",
    "optimizer = optim.Adam(fcModel.parameters())\n",
    "(loss, accuracy) = train(fcModel, trainloader, criterion, optimizer, epoch, device)"
   ]
  },
  {
   "cell_type": "code",
   "execution_count": 8,
   "metadata": {},
   "outputs": [
    {
     "data": {
      "image/png": "[encoded data removed]",
      "text/plain": [
       "<Figure size 1200x500 with 2 Axes>"
      ]
     },
     "metadata": {},
     "output_type": "display_data"
    }
   ],
   "source": [
    "plot_data(loss, accuracy)"
   ]
  },
  {
   "cell_type": "code",
   "execution_count": 9,
   "metadata": {},
   "outputs": [
    {
     "name": "stdout",
     "output_type": "stream",
     "text": [
      "Accuracy: 53.10 %\n",
      "Precision: 0.53\n",
      "Recall: 0.54\n",
      "Confusion Matrix (Normalized):\n",
      "[[0.36 0.25 0.15 0.15 0.1 ]\n",
      " [0.12 0.5  0.23 0.04 0.1 ]\n",
      " [0.18 0.1  0.54 0.06 0.12]\n",
      " [0.08 0.05 0.   0.82 0.05]\n",
      " [0.15 0.08 0.1  0.21 0.46]]\n"
     ]
    }
   ],
   "source": [
    "validate(fcModel, testloader, device)"
   ]
  },
  {
   "cell_type": "code",
   "execution_count": 10,
   "metadata": {},
   "outputs": [],
   "source": [
    "class ImporvedFC(nn.Module):\n",
    "    def __init__(self):\n",
    "        super().__init__()\n",
    "        self.flat = nn.Flatten()\n",
    "        self.fc1 = nn.Linear(3 * 100 * 100, 1000)\n",
    "        self.bn1 = nn.BatchNorm1d(1000)\n",
    "        self.fc2 = nn.Linear(1000, 128)\n",
    "        self.bn2 = nn.BatchNorm1d(128)\n",
    "        self.fc3 = nn.Linear(128, 5)\n",
    "        self.dropout = nn.Dropout(0.5)\n",
    "        self.l_relu = nn.LeakyReLU()\n",
    "\n",
    "    def forward(self, x):\n",
    "        x = self.flat(x)\n",
    "        x = self.fc1(x)\n",
    "        x = self.bn1(x)\n",
    "        x = self.l_relu(x)\n",
    "        x = self.dropout(x)\n",
    "        x = self.fc2(x)\n",
    "        x = self.bn2(x)\n",
    "        x = self.l_relu(x)\n",
    "        x = self.dropout(x)\n",
    "        x = self.fc3(x)\n",
    "        return x"
   ]
  },
  {
   "cell_type": "code",
   "execution_count": 11,
   "metadata": {},
   "outputs": [
    {
     "name": "stderr",
     "output_type": "stream",
     "text": [
      "Epoch 1/10: 100%|██████████| 125/125 [00:27<00:00,  4.59it/s]\n"
     ]
    },
    {
     "name": "stdout",
     "output_type": "stream",
     "text": [
      "Epoch 1, Train Loss: 1.4100, Accuracy: 39.77%\n"
     ]
    },
    {
     "name": "stderr",
     "output_type": "stream",
     "text": [
      "Epoch 2/10: 100%|██████████| 125/125 [00:27<00:00,  4.56it/s]\n"
     ]
    },
    {
     "name": "stdout",
     "output_type": "stream",
     "text": [
      "Epoch 2, Train Loss: 1.2538, Accuracy: 47.15%\n"
     ]
    },
    {
     "name": "stderr",
     "output_type": "stream",
     "text": [
      "Epoch 3/10: 100%|██████████| 125/125 [00:26<00:00,  4.64it/s]\n"
     ]
    },
    {
     "name": "stdout",
     "output_type": "stream",
     "text": [
      "Epoch 3, Train Loss: 1.2023, Accuracy: 50.02%\n"
     ]
    },
    {
     "name": "stderr",
     "output_type": "stream",
     "text": [
      "Epoch 4/10: 100%|██████████| 125/125 [00:27<00:00,  4.58it/s]\n"
     ]
    },
    {
     "name": "stdout",
     "output_type": "stream",
     "text": [
      "Epoch 4, Train Loss: 1.1382, Accuracy: 54.10%\n"
     ]
    },
    {
     "name": "stderr",
     "output_type": "stream",
     "text": [
      "Epoch 5/10: 100%|██████████| 125/125 [00:27<00:00,  4.62it/s]\n"
     ]
    },
    {
     "name": "stdout",
     "output_type": "stream",
     "text": [
      "Epoch 5, Train Loss: 1.0677, Accuracy: 57.15%\n"
     ]
    },
    {
     "name": "stderr",
     "output_type": "stream",
     "text": [
      "Epoch 6/10: 100%|██████████| 125/125 [00:27<00:00,  4.58it/s]\n"
     ]
    },
    {
     "name": "stdout",
     "output_type": "stream",
     "text": [
      "Epoch 6, Train Loss: 1.0369, Accuracy: 59.35%\n"
     ]
    },
    {
     "name": "stderr",
     "output_type": "stream",
     "text": [
      "Epoch 7/10: 100%|██████████| 125/125 [00:28<00:00,  4.42it/s]\n"
     ]
    },
    {
     "name": "stdout",
     "output_type": "stream",
     "text": [
      "Epoch 7, Train Loss: 0.9860, Accuracy: 61.35%\n"
     ]
    },
    {
     "name": "stderr",
     "output_type": "stream",
     "text": [
      "Epoch 8/10: 100%|██████████| 125/125 [00:28<00:00,  4.43it/s]\n"
     ]
    },
    {
     "name": "stdout",
     "output_type": "stream",
     "text": [
      "Epoch 8, Train Loss: 0.9388, Accuracy: 63.25%\n"
     ]
    },
    {
     "name": "stderr",
     "output_type": "stream",
     "text": [
      "Epoch 9/10: 100%|██████████| 125/125 [00:27<00:00,  4.50it/s]\n"
     ]
    },
    {
     "name": "stdout",
     "output_type": "stream",
     "text": [
      "Epoch 9, Train Loss: 0.9177, Accuracy: 63.12%\n"
     ]
    },
    {
     "name": "stderr",
     "output_type": "stream",
     "text": [
      "Epoch 10/10: 100%|██████████| 125/125 [00:27<00:00,  4.54it/s]"
     ]
    },
    {
     "name": "stdout",
     "output_type": "stream",
     "text": [
      "Epoch 10, Train Loss: 0.8712, Accuracy: 66.22%\n"
     ]
    },
    {
     "name": "stderr",
     "output_type": "stream",
     "text": [
      "\n"
     ]
    }
   ],
   "source": [
    "improvedFcModel = ImporvedFC()\n",
    "optimizer = optim.Adam(improvedFcModel.parameters())\n",
    "(loss, accuracy) = train(improvedFcModel, trainloader, criterion, optimizer, epoch, device)"
   ]
  },
  {
   "cell_type": "code",
   "execution_count": 12,
   "metadata": {},
   "outputs": [
    {
     "data": {
      "image/png": "[encoded data removed]",
      "text/plain": [
       "<Figure size 1200x500 with 2 Axes>"
      ]
     },
     "metadata": {},
     "output_type": "display_data"
    }
   ],
   "source": [
    "plot_data(loss, accuracy)"
   ]
  },
  {
   "cell_type": "code",
   "execution_count": 13,
   "metadata": {},
   "outputs": [
    {
     "name": "stdout",
     "output_type": "stream",
     "text": [
      "Accuracy: 58.20 %\n",
      "Precision: 0.62\n",
      "Recall: 0.59\n",
      "Confusion Matrix (Normalized):\n",
      "[[0.59 0.1  0.2  0.08 0.03]\n",
      " [0.18 0.48 0.26 0.05 0.03]\n",
      " [0.2  0.06 0.68 0.04 0.03]\n",
      " [0.06 0.02 0.02 0.89 0.01]\n",
      " [0.22 0.06 0.18 0.21 0.33]]\n"
     ]
    }
   ],
   "source": [
    "validate(improvedFcModel, testloader, device)"
   ]
  }
 ],
 "metadata": {
  "kernelspec": {
   "display_name": "Python 3",
   "language": "python",
   "name": "python3"
  },
  "language_info": {
   "codemirror_mode": {
    "name": "ipython",
    "version": 3
   },
   "file_extension": ".py",
   "mimetype": "text/x-python",
   "name": "python",
   "nbconvert_exporter": "python",
   "pygments_lexer": "ipython3",
   "version": "3.12.1"
  }
 },
 "nbformat": 4,
 "nbformat_minor": 2
}
